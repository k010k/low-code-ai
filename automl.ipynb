{
  "nbformat": 4,
  "nbformat_minor": 0,
  "metadata": {
    "colab": {
      "provenance": [],
      "authorship_tag": "ABX9TyPwSaa1ylecDsuzO27Vhsr1",
      "include_colab_link": true
    },
    "kernelspec": {
      "name": "python3",
      "display_name": "Python 3"
    },
    "language_info": {
      "name": "python"
    }
  },
  "cells": [
    {
      "cell_type": "markdown",
      "metadata": {
        "id": "view-in-github",
        "colab_type": "text"
      },
      "source": [
        "<a href=\"https://colab.research.google.com/github/k010k/low-code-ai/blob/main/automl.ipynb\" target=\"_parent\"><img src=\"https://colab.research.google.com/assets/colab-badge.svg\" alt=\"Open In Colab\"/></a>"
      ]
    },
    {
      "cell_type": "markdown",
      "source": [
        "import pandas as ps\n"
      ],
      "metadata": {
        "id": "73UaSgf0x8VN"
      }
    },
    {
      "cell_type": "code",
      "source": [
        "import pandas as pd\n",
        "url = \"https://data.cdc.gov/api/views/jiwm-ppbh/rows.csv?accessType=DOWNLOAD\"\n",
        "heart_df = pd.read_csv(url, index_col=0)\n",
        "heart_df.info()"
      ],
      "metadata": {
        "colab": {
          "base_uri": "https://localhost:8080/"
        },
        "id": "y4J2aRNHyqm9",
        "outputId": "3d578e65-3d34-4c41-ba40-64d05f6e3e2f"
      },
      "execution_count": null,
      "outputs": [
        {
          "output_type": "stream",
          "name": "stdout",
          "text": [
            "<class 'pandas.core.frame.DataFrame'>\n",
            "Index: 59094 entries, 2019 to 2019\n",
            "Data columns (total 19 columns):\n",
            " #   Column                      Non-Null Count  Dtype  \n",
            "---  ------                      --------------  -----  \n",
            " 0   LocationAbbr                59094 non-null  object \n",
            " 1   LocationDesc                59094 non-null  object \n",
            " 2   GeographicLevel             59094 non-null  object \n",
            " 3   DataSource                  59094 non-null  object \n",
            " 4   Class                       59094 non-null  object \n",
            " 5   Topic                       59094 non-null  object \n",
            " 6   Data_Value                  33087 non-null  float64\n",
            " 7   Data_Value_Unit             59094 non-null  object \n",
            " 8   Data_Value_Type             59094 non-null  object \n",
            " 9   Data_Value_Footnote_Symbol  26007 non-null  object \n",
            " 10  Data_Value_Footnote         26007 non-null  object \n",
            " 11  StratificationCategory1     59094 non-null  object \n",
            " 12  Stratification1             59094 non-null  object \n",
            " 13  StratificationCategory2     59094 non-null  object \n",
            " 14  Stratification2             59094 non-null  object \n",
            " 15  TopicID                     59094 non-null  object \n",
            " 16  LocationID                  59094 non-null  int64  \n",
            " 17  Y_lat                       59076 non-null  float64\n",
            " 18  X_lon                       59076 non-null  float64\n",
            "dtypes: float64(3), int64(1), object(15)\n",
            "memory usage: 9.0+ MB\n"
          ]
        }
      ]
    }
  ]
}